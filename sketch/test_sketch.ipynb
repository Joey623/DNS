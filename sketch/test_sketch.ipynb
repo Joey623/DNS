{
 "cells": [
  {
   "cell_type": "markdown",
   "id": "6c5cf933-90d9-4435-9cfb-c97ca2273e6a",
   "metadata": {},
   "source": [
    "# Test Mask1k dataset"
   ]
  },
  {
   "cell_type": "markdown",
   "id": "93447394-8de7-4260-91c7-d1c7424b1020",
   "metadata": {},
   "source": [
    "### Single query and all style (AdamW optimizer)"
   ]
  },
  {
   "cell_type": "code",
   "execution_count": 1,
   "id": "3494cb16-52a5-46fe-b04f-0457fce7d092",
   "metadata": {
    "tags": []
   },
   "outputs": [
    {
     "name": "stdout",
     "output_type": "stream",
     "text": [
      "==> Testing......\n",
      "gall size (2370, 288, 144, 3)\n",
      "gall label size 2370\n",
      "data init success!\n",
      "Dataset mask1k statistics:\n",
      "  ------------------------------\n",
      "  subset   | # ids | # images\n",
      "  ------------------------------\n",
      "  visible  |   498 |     1000\n",
      "  sketch  |   498 |     2331\n",
      "  ------------------------------\n",
      "  query    |   498 |     2370\n",
      "  gallery  |   498 |     1000\n",
      "  ------------------------------\n",
      "Data Loading Time:\t 6.407\n",
      "==> Building model......\n",
      "==> Loading weights from checkpoint......\n",
      "==> best epoch 95\n",
      "original feature:   Rank-1: 21.60% | Rank-5: 44.64% | Rank-10: 56.92%| Rank-20: 68.48%| mAP: 23.43%| mINP: 13.98%\n",
      "feature after BN:   Rank-1: 22.74% | Rank-5: 44.51% | Rank-10: 56.37%| Rank-20: 67.89%| mAP: 23.71%| mINP: 13.79%\n"
     ]
    }
   ],
   "source": [
    "%run test.py --train_style ABCDEF --test_style ABCDEF --resume mask1k_styleABCDEF_adamw_p6_n4_lr_0.0009_seed_0_best.pth"
   ]
  },
  {
   "cell_type": "markdown",
   "id": "b4479dac-ac7e-4ef4-ba8a-96e7ff66eb93",
   "metadata": {},
   "source": [
    "### Single query and all style (SGD optimizer)"
   ]
  },
  {
   "cell_type": "code",
   "execution_count": 2,
   "id": "c34d35bf-087f-40d6-8208-ddba53ea95b2",
   "metadata": {
    "tags": []
   },
   "outputs": [
    {
     "name": "stdout",
     "output_type": "stream",
     "text": [
      "==> Testing......\n",
      "gall size (2370, 288, 144, 3)\n",
      "gall label size 2370\n",
      "data init success!\n",
      "Dataset mask1k statistics:\n",
      "  ------------------------------\n",
      "  subset   | # ids | # images\n",
      "  ------------------------------\n",
      "  visible  |   498 |     1000\n",
      "  sketch  |   498 |     2331\n",
      "  ------------------------------\n",
      "  query    |   498 |     2370\n",
      "  gallery  |   498 |     1000\n",
      "  ------------------------------\n",
      "Data Loading Time:\t 5.973\n",
      "==> Building model......\n",
      "==> Loading weights from checkpoint......\n",
      "==> best epoch 79\n",
      "original feature:   Rank-1: 17.93% | Rank-5: 36.96% | Rank-10: 48.10%| Rank-20: 59.62%| mAP: 18.62%| mINP: 9.45%\n",
      "feature after BN:   Rank-1: 23.04% | Rank-5: 43.29% | Rank-10: 55.23%| Rank-20: 67.43%| mAP: 23.50%| mINP: 13.49%\n"
     ]
    }
   ],
   "source": [
    "%run test.py --train_style ABCDEF --test_style ABCDEF --resume mask1k_styleABCDEF_sgd_p6_n4_lr_0.1_seed_0_best.pth"
   ]
  },
  {
   "cell_type": "markdown",
   "id": "c8857a08-f8c3-4ccc-8294-af3d1534b73e",
   "metadata": {},
   "source": [
    "### Single query and one style (AdamW optimizer). I only test A style."
   ]
  },
  {
   "cell_type": "code",
   "execution_count": 3,
   "id": "b0d63d3d-f559-48db-9d91-51190067652a",
   "metadata": {
    "tags": []
   },
   "outputs": [
    {
     "name": "stdout",
     "output_type": "stream",
     "text": [
      "==> Testing......\n",
      "data init success!\n",
      "Dataset mask1k statistics:\n",
      "  ------------------------------\n",
      "  subset   | # ids | # images\n",
      "  ------------------------------\n",
      "  visible  |   498 |     1000\n",
      "  sketch  |   498 |      498\n",
      "  ------------------------------\n",
      "  query    |   498 |      498\n",
      "  gallery  |   498 |     1000\n",
      "  ------------------------------\n",
      "Data Loading Time:\t 2.256\n",
      "==> Building model......\n",
      "==> Loading weights from checkpoint......\n",
      "==> best epoch 87\n",
      "original feature:   Rank-1: 28.11% | Rank-5: 54.22% | Rank-10: 66.27%| Rank-20: 80.72%| mAP: 30.48%| mINP: 19.96%\n",
      "feature after BN:   Rank-1: 27.31% | Rank-5: 54.02% | Rank-10: 67.07%| Rank-20: 78.92%| mAP: 29.19%| mINP: 18.29%\n"
     ]
    }
   ],
   "source": [
    "%run test.py --train_style A --test_style A --resume mask1k_styleA_adamw_p6_n4_lr_0.0009_seed_0_best.pth"
   ]
  },
  {
   "cell_type": "markdown",
   "id": "fc73f64b-b223-41f4-be00-e8169d813abf",
   "metadata": {},
   "source": [
    "### Single query and one style (SGD optimizer)."
   ]
  },
  {
   "cell_type": "code",
   "execution_count": 4,
   "id": "136e97ee-cd88-4eca-9bf5-a81f3252930a",
   "metadata": {
    "tags": []
   },
   "outputs": [
    {
     "name": "stdout",
     "output_type": "stream",
     "text": [
      "==> Testing......\n",
      "data init success!\n",
      "Dataset mask1k statistics:\n",
      "  ------------------------------\n",
      "  subset   | # ids | # images\n",
      "  ------------------------------\n",
      "  visible  |   498 |     1000\n",
      "  sketch  |   498 |      498\n",
      "  ------------------------------\n",
      "  query    |   498 |      498\n",
      "  gallery  |   498 |     1000\n",
      "  ------------------------------\n",
      "Data Loading Time:\t 2.224\n",
      "==> Building model......\n",
      "==> Loading weights from checkpoint......\n",
      "==> best epoch 70\n",
      "original feature:   Rank-1: 18.07% | Rank-5: 40.96% | Rank-10: 53.01%| Rank-20: 63.25%| mAP: 19.65%| mINP: 9.85%\n",
      "feature after BN:   Rank-1: 25.30% | Rank-5: 52.81% | Rank-10: 63.86%| Rank-20: 74.70%| mAP: 27.01%| mINP: 16.00%\n"
     ]
    }
   ],
   "source": [
    "%run test.py --train_style A --test_style A --resume mask1k_styleA_sgd_p6_n4_lr_0.1_seed_0_best.pth"
   ]
  },
  {
   "cell_type": "markdown",
   "id": "ec6182ef-001e-440d-9150-dc7298cafa47",
   "metadata": {},
   "source": [
    "## Test PKU-Sketch"
   ]
  },
  {
   "cell_type": "code",
   "execution_count": null,
   "id": "21d2182c-496b-4fc5-b8f2-a99251a0c059",
   "metadata": {
    "tags": []
   },
   "outputs": [
    {
     "name": "stdout",
     "output_type": "stream",
     "text": [
      "==> Building model......\n",
      "==> Testing......\n",
      "==> best epoch 79\n",
      "Test Trial: 1, Sketch to Visible\n",
      "original feature:   Rank-1: 86.00% | Rank-5: 94.00% | Rank-10: 100.00%| Rank-20: 100.00%| mAP: 77.78%| mINP: 64.75%\n",
      "feature after BN:   Rank-1: 88.00% | Rank-5: 94.00% | Rank-10: 98.00%| Rank-20: 100.00%| mAP: 80.62%| mINP: 70.44%\n",
      "==> best epoch 94\n",
      "Test Trial: 2, Sketch to Visible\n",
      "original feature:   Rank-1: 84.00% | Rank-5: 96.00% | Rank-10: 100.00%| Rank-20: 100.00%| mAP: 80.57%| mINP: 72.75%\n",
      "feature after BN:   Rank-1: 88.00% | Rank-5: 96.00% | Rank-10: 96.00%| Rank-20: 98.00%| mAP: 82.63%| mINP: 74.35%\n",
      "==> best epoch 96\n",
      "Test Trial: 3, Sketch to Visible\n",
      "original feature:   Rank-1: 84.00% | Rank-5: 98.00% | Rank-10: 100.00%| Rank-20: 100.00%| mAP: 79.35%| mINP: 69.03%\n",
      "feature after BN:   Rank-1: 90.00% | Rank-5: 98.00% | Rank-10: 98.00%| Rank-20: 100.00%| mAP: 83.22%| mINP: 72.80%\n",
      "==> best epoch 31\n",
      "Test Trial: 4, Sketch to Visible\n",
      "original feature:   Rank-1: 80.00% | Rank-5: 96.00% | Rank-10: 98.00%| Rank-20: 98.00%| mAP: 74.21%| mINP: 61.63%\n",
      "feature after BN:   Rank-1: 90.00% | Rank-5: 98.00% | Rank-10: 100.00%| Rank-20: 100.00%| mAP: 81.31%| mINP: 70.13%\n",
      "==> best epoch 68\n",
      "Test Trial: 5, Sketch to Visible\n",
      "original feature:   Rank-1: 76.00% | Rank-5: 94.00% | Rank-10: 100.00%| Rank-20: 100.00%| mAP: 76.51%| mINP: 68.86%\n",
      "feature after BN:   Rank-1: 88.00% | Rank-5: 96.00% | Rank-10: 98.00%| Rank-20: 98.00%| mAP: 83.34%| mINP: 75.05%\n",
      "==> best epoch 70\n"
     ]
    }
   ],
   "source": [
    "%run test.py --dataset pku"
   ]
  }
 ],
 "metadata": {
  "kernelspec": {
   "display_name": "Python 3 (ipykernel)",
   "language": "python",
   "name": "python3"
  },
  "language_info": {
   "codemirror_mode": {
    "name": "ipython",
    "version": 3
   },
   "file_extension": ".py",
   "mimetype": "text/x-python",
   "name": "python",
   "nbconvert_exporter": "python",
   "pygments_lexer": "ipython3",
   "version": "3.8.10"
  }
 },
 "nbformat": 4,
 "nbformat_minor": 5
}
