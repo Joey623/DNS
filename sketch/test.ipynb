{
 "cells": [
  {
   "cell_type": "markdown",
   "id": "6c5cf933-90d9-4435-9cfb-c97ca2273e6a",
   "metadata": {},
   "source": [
    "# Test PKU-Sketch dataset"
   ]
  },
  {
   "cell_type": "code",
   "execution_count": 1,
   "id": "3494cb16-52a5-46fe-b04f-0457fce7d092",
   "metadata": {
    "tags": []
   },
   "outputs": [
    {
     "name": "stdout",
     "output_type": "stream",
     "text": [
      "==> Testing......\n",
      "gall size (2370, 288, 144, 3)\n",
      "gall label size 2370\n",
      "data init success!\n",
      "Dataset mask1k statistics:\n",
      "  ------------------------------\n",
      "  subset   | # ids | # images\n",
      "  ------------------------------\n",
      "  visible  |   498 |     1000\n",
      "  sketch  |   498 |     2331\n",
      "  ------------------------------\n",
      "  query    |   498 |     2370\n",
      "  gallery  |   498 |     1000\n",
      "  ------------------------------\n",
      "Data Loading Time:\t 6.407\n",
      "==> Building model......\n",
      "==> Loading weights from checkpoint......\n",
      "==> best epoch 95\n",
      "original feature:   Rank-1: 21.60% | Rank-5: 44.64% | Rank-10: 56.92%| Rank-20: 68.48%| mAP: 23.43%| mINP: 13.98%\n",
      "feature after BN:   Rank-1: 22.74% | Rank-5: 44.51% | Rank-10: 56.37%| Rank-20: 67.89%| mAP: 23.71%| mINP: 13.79%\n"
     ]
    }
   ],
   "source": [
    "%run test.py --dataset pku"
   ]
  }
 ],
 "metadata": {
  "kernelspec": {
   "display_name": "Python 3 (ipykernel)",
   "language": "python",
   "name": "python3"
  },
  "language_info": {
   "codemirror_mode": {
    "name": "ipython",
    "version": 3
   },
   "file_extension": ".py",
   "mimetype": "text/x-python",
   "name": "python",
   "nbconvert_exporter": "python",
   "pygments_lexer": "ipython3",
   "version": "3.8.10"
  }
 },
 "nbformat": 4,
 "nbformat_minor": 5
}
