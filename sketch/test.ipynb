{
 "cells": [
  {
   "cell_type": "markdown",
   "id": "6c5cf933-90d9-4435-9cfb-c97ca2273e6a",
   "metadata": {},
   "source": [
    "# Test PKU-Sketch dataset (reproduce)"
   ]
  },
  {
   "cell_type": "code",
   "execution_count": 1,
   "id": "3494cb16-52a5-46fe-b04f-0457fce7d092",
   "metadata": {
    "tags": []
   },
   "outputs": [
    {
     "name": "stdout",
     "output_type": "stream",
     "text": [
      "==> Building model......\n",
      "==> Testing......\n",
      "==> best epoch 98\n",
      "Test Trial: 1, Sketch to Visible\n",
      "original feature:   Rank-1: 80.00% | Rank-5: 98.00% | Rank-10: 100.00%| Rank-20: 100.00%| mAP: 81.52%| mINP: 75.90%\n",
      "feature after BN:   Rank-1: 90.00% | Rank-5: 98.00% | Rank-10: 100.00%| Rank-20: 100.00%| mAP: 85.06%| mINP: 76.66%\n",
      "==> best epoch 95\n",
      "Test Trial: 2, Sketch to Visible\n",
      "original feature:   Rank-1: 76.00% | Rank-5: 100.00% | Rank-10: 100.00%| Rank-20: 100.00%| mAP: 78.73%| mINP: 72.49%\n",
      "feature after BN:   Rank-1: 92.00% | Rank-5: 100.00% | Rank-10: 100.00%| Rank-20: 100.00%| mAP: 85.32%| mINP: 75.46%\n",
      "==> best epoch 84\n",
      "Test Trial: 3, Sketch to Visible\n",
      "original feature:   Rank-1: 82.00% | Rank-5: 100.00% | Rank-10: 100.00%| Rank-20: 100.00%| mAP: 83.53%| mINP: 77.33%\n",
      "feature after BN:   Rank-1: 92.00% | Rank-5: 100.00% | Rank-10: 100.00%| Rank-20: 100.00%| mAP: 85.47%| mINP: 75.43%\n",
      "==> best epoch 90\n",
      "Test Trial: 4, Sketch to Visible\n",
      "original feature:   Rank-1: 82.00% | Rank-5: 100.00% | Rank-10: 100.00%| Rank-20: 100.00%| mAP: 80.18%| mINP: 72.36%\n",
      "feature after BN:   Rank-1: 90.00% | Rank-5: 100.00% | Rank-10: 100.00%| Rank-20: 100.00%| mAP: 82.94%| mINP: 72.37%\n",
      "==> best epoch 96\n",
      "Test Trial: 5, Sketch to Visible\n",
      "original feature:   Rank-1: 78.00% | Rank-5: 100.00% | Rank-10: 100.00%| Rank-20: 100.00%| mAP: 80.13%| mINP: 71.60%\n",
      "feature after BN:   Rank-1: 90.00% | Rank-5: 100.00% | Rank-10: 100.00%| Rank-20: 100.00%| mAP: 85.38%| mINP: 76.77%\n",
      "==> best epoch 97\n",
      "Test Trial: 6, Sketch to Visible\n",
      "original feature:   Rank-1: 80.00% | Rank-5: 98.00% | Rank-10: 100.00%| Rank-20: 100.00%| mAP: 79.50%| mINP: 71.25%\n",
      "feature after BN:   Rank-1: 86.00% | Rank-5: 100.00% | Rank-10: 100.00%| Rank-20: 100.00%| mAP: 81.75%| mINP: 72.34%\n",
      "==> best epoch 93\n",
      "Test Trial: 7, Sketch to Visible\n",
      "original feature:   Rank-1: 78.00% | Rank-5: 98.00% | Rank-10: 100.00%| Rank-20: 100.00%| mAP: 79.38%| mINP: 72.07%\n",
      "feature after BN:   Rank-1: 90.00% | Rank-5: 100.00% | Rank-10: 100.00%| Rank-20: 100.00%| mAP: 83.98%| mINP: 73.62%\n",
      "==> best epoch 98\n",
      "Test Trial: 8, Sketch to Visible\n",
      "original feature:   Rank-1: 70.00% | Rank-5: 98.00% | Rank-10: 100.00%| Rank-20: 100.00%| mAP: 76.21%| mINP: 70.91%\n",
      "feature after BN:   Rank-1: 90.00% | Rank-5: 100.00% | Rank-10: 100.00%| Rank-20: 100.00%| mAP: 84.63%| mINP: 75.25%\n",
      "==> best epoch 78\n",
      "Test Trial: 9, Sketch to Visible\n",
      "original feature:   Rank-1: 84.00% | Rank-5: 96.00% | Rank-10: 98.00%| Rank-20: 100.00%| mAP: 81.72%| mINP: 74.27%\n",
      "feature after BN:   Rank-1: 90.00% | Rank-5: 98.00% | Rank-10: 100.00%| Rank-20: 100.00%| mAP: 84.54%| mINP: 75.92%\n",
      "==> best epoch 88\n",
      "Test Trial: 10, Sketch to Visible\n",
      "original feature:   Rank-1: 78.00% | Rank-5: 100.00% | Rank-10: 100.00%| Rank-20: 100.00%| mAP: 77.71%| mINP: 69.23%\n",
      "feature after BN:   Rank-1: 88.00% | Rank-5: 100.00% | Rank-10: 100.00%| Rank-20: 100.00%| mAP: 84.20%| mINP: 75.40%\n",
      "All Average:\n",
      "original feature:   Rank-1: 78.80% | Rank-5: 98.80% | Rank-10: 99.80%| Rank-20: 100.00%| mAP: 79.86%| mINP: 72.74%\n",
      "feature after BN:   Rank-1: 89.80% | Rank-5: 99.60% | Rank-10: 100.00%| Rank-20: 100.00%| mAP: 84.33%| mINP: 74.92%\n"
     ]
    }
   ],
   "source": [
    "%run test.py --dataset pku"
   ]
  }
 ],
 "metadata": {
  "kernelspec": {
   "display_name": "Python 3 (ipykernel)",
   "language": "python",
   "name": "python3"
  },
  "language_info": {
   "codemirror_mode": {
    "name": "ipython",
    "version": 3
   },
   "file_extension": ".py",
   "mimetype": "text/x-python",
   "name": "python",
   "nbconvert_exporter": "python",
   "pygments_lexer": "ipython3",
   "version": "3.8.10"
  }
 },
 "nbformat": 4,
 "nbformat_minor": 5
}
