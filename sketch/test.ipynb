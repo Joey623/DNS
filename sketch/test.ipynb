{
 "cells": [
  {
   "cell_type": "markdown",
   "id": "6c5cf933-90d9-4435-9cfb-c97ca2273e6a",
   "metadata": {},
   "source": [
    "# Test PKU-Sketch dataset (reproduce)"
   ]
  },
  {
   "cell_type": "code",
   "execution_count": 1,
   "id": "3494cb16-52a5-46fe-b04f-0457fce7d092",
   "metadata": {
    "tags": []
   },
   "outputs": [
    {
     "name": "stdout",
     "output_type": "stream",
     "text": [
      "==> Building model......\n",
      "==> Testing......\n",
      "==> best epoch 79\n",
      "Test Trial: 1, Sketch to Visible\n",
      "original feature:   Rank-1: 86.00% | Rank-5: 94.00% | Rank-10: 100.00%| Rank-20: 100.00%| mAP: 77.78%| mINP: 64.75%\n",
      "feature after BN:   Rank-1: 88.00% | Rank-5: 94.00% | Rank-10: 98.00%| Rank-20: 100.00%| mAP: 80.62%| mINP: 70.44%\n",
      "==> best epoch 94\n",
      "Test Trial: 2, Sketch to Visible\n",
      "original feature:   Rank-1: 84.00% | Rank-5: 96.00% | Rank-10: 100.00%| Rank-20: 100.00%| mAP: 80.57%| mINP: 72.75%\n",
      "feature after BN:   Rank-1: 88.00% | Rank-5: 96.00% | Rank-10: 96.00%| Rank-20: 98.00%| mAP: 82.63%| mINP: 74.35%\n",
      "==> best epoch 96\n",
      "Test Trial: 3, Sketch to Visible\n",
      "original feature:   Rank-1: 84.00% | Rank-5: 98.00% | Rank-10: 100.00%| Rank-20: 100.00%| mAP: 79.35%| mINP: 69.03%\n",
      "feature after BN:   Rank-1: 90.00% | Rank-5: 98.00% | Rank-10: 98.00%| Rank-20: 100.00%| mAP: 83.22%| mINP: 72.80%\n",
      "==> best epoch 31\n",
      "Test Trial: 4, Sketch to Visible\n",
      "original feature:   Rank-1: 80.00% | Rank-5: 96.00% | Rank-10: 98.00%| Rank-20: 98.00%| mAP: 74.21%| mINP: 61.63%\n",
      "feature after BN:   Rank-1: 90.00% | Rank-5: 98.00% | Rank-10: 100.00%| Rank-20: 100.00%| mAP: 81.31%| mINP: 70.13%\n",
      "==> best epoch 68\n",
      "Test Trial: 5, Sketch to Visible\n",
      "original feature:   Rank-1: 76.00% | Rank-5: 94.00% | Rank-10: 100.00%| Rank-20: 100.00%| mAP: 76.51%| mINP: 68.86%\n",
      "feature after BN:   Rank-1: 88.00% | Rank-5: 96.00% | Rank-10: 98.00%| Rank-20: 98.00%| mAP: 83.34%| mINP: 75.05%\n",
      "==> best epoch 70\n",
      "Test Trial: 6, Sketch to Visible\n",
      "original feature:   Rank-1: 80.00% | Rank-5: 92.00% | Rank-10: 98.00%| Rank-20: 100.00%| mAP: 79.00%| mINP: 72.27%\n",
      "feature after BN:   Rank-1: 88.00% | Rank-5: 96.00% | Rank-10: 98.00%| Rank-20: 98.00%| mAP: 82.68%| mINP: 74.77%\n",
      "==> best epoch 69\n",
      "Test Trial: 7, Sketch to Visible\n",
      "original feature:   Rank-1: 82.00% | Rank-5: 96.00% | Rank-10: 98.00%| Rank-20: 100.00%| mAP: 80.56%| mINP: 72.92%\n",
      "feature after BN:   Rank-1: 90.00% | Rank-5: 98.00% | Rank-10: 98.00%| Rank-20: 98.00%| mAP: 83.83%| mINP: 75.18%\n",
      "==> best epoch 68\n",
      "Test Trial: 8, Sketch to Visible\n",
      "original feature:   Rank-1: 76.00% | Rank-5: 94.00% | Rank-10: 100.00%| Rank-20: 100.00%| mAP: 76.51%| mINP: 68.86%\n",
      "feature after BN:   Rank-1: 88.00% | Rank-5: 96.00% | Rank-10: 98.00%| Rank-20: 98.00%| mAP: 83.34%| mINP: 75.05%\n",
      "==> best epoch 93\n",
      "Test Trial: 9, Sketch to Visible\n",
      "original feature:   Rank-1: 76.00% | Rank-5: 98.00% | Rank-10: 100.00%| Rank-20: 100.00%| mAP: 77.51%| mINP: 69.93%\n",
      "feature after BN:   Rank-1: 88.00% | Rank-5: 96.00% | Rank-10: 98.00%| Rank-20: 100.00%| mAP: 83.40%| mINP: 75.57%\n",
      "==> best epoch 70\n",
      "Test Trial: 10, Sketch to Visible\n",
      "original feature:   Rank-1: 80.00% | Rank-5: 92.00% | Rank-10: 98.00%| Rank-20: 100.00%| mAP: 79.00%| mINP: 72.27%\n",
      "feature after BN:   Rank-1: 88.00% | Rank-5: 96.00% | Rank-10: 98.00%| Rank-20: 98.00%| mAP: 82.68%| mINP: 74.77%\n",
      "All Average:\n",
      "original feature:   Rank-1: 80.40% | Rank-5: 95.00% | Rank-10: 99.20%| Rank-20: 99.80%| mAP: 78.10%| mINP: 69.33%\n",
      "feature after BN:   Rank-1: 88.60% | Rank-5: 96.40% | Rank-10: 98.00%| Rank-20: 98.80%| mAP: 82.70%| mINP: 73.81%\n"
     ]
    }
   ],
   "source": [
    "%run test.py --dataset pku"
   ]
  }
 ],
 "metadata": {
  "kernelspec": {
   "display_name": "Python 3 (ipykernel)",
   "language": "python",
   "name": "python3"
  },
  "language_info": {
   "codemirror_mode": {
    "name": "ipython",
    "version": 3
   },
   "file_extension": ".py",
   "mimetype": "text/x-python",
   "name": "python",
   "nbconvert_exporter": "python",
   "pygments_lexer": "ipython3",
   "version": "3.8.10"
  }
 },
 "nbformat": 4,
 "nbformat_minor": 5
}
