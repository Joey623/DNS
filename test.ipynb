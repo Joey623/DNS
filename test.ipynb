{
 "cells": [
  {
   "cell_type": "markdown",
   "source": [
    "# Test"
   ],
   "metadata": {
    "collapsed": false
   },
   "id": "acdae0a7ac7e020c"
  },
  {
   "cell_type": "markdown",
   "source": [
    "You can download the checkpoint of our proposed DNS via [Google Drive](https://drive.google.com/file/d/18zdq4Ohit84h7khsnLq7MWUoMRQfajp6/view?usp=drive_link)."
   ],
   "metadata": {
    "collapsed": false
   },
   "id": "fee0dfab64f8af2c"
  },
  {
   "cell_type": "markdown",
   "source": [
    "## Test SYSU-MM01 (All-search mode)"
   ],
   "metadata": {
    "collapsed": false
   },
   "id": "b706306d98457a56"
  },
  {
   "cell_type": "code",
   "execution_count": 1,
   "outputs": [
    {
     "name": "stdout",
     "output_type": "stream",
     "text": [
      "==> Building model......\n",
      "==> Testing......\n",
      "==> Loading weights from checkpoint......\n",
      "==> best epoch 97\n",
      "Test Trial: 0\n",
      "original feature:   Rank-1: 72.21% | Rank-5: 91.59% | Rank-10: 96.06%| Rank-20: 98.84%| mAP: 64.57%| mINP: 45.97%\n",
      "feature after BN:   Rank-1: 78.52% | Rank-5: 94.69% | Rank-10: 97.76%| Rank-20: 99.37%| mAP: 75.20%| mINP: 62.80%\n",
      "Test Trial: 1\n",
      "original feature:   Rank-1: 70.44% | Rank-5: 90.74% | Rank-10: 95.48%| Rank-20: 98.34%| mAP: 64.19%| mINP: 46.93%\n",
      "feature after BN:   Rank-1: 77.25% | Rank-5: 94.29% | Rank-10: 97.61%| Rank-20: 99.29%| mAP: 74.94%| mINP: 63.47%\n",
      "Test Trial: 2\n",
      "original feature:   Rank-1: 70.47% | Rank-5: 89.61% | Rank-10: 94.87%| Rank-20: 98.58%| mAP: 62.90%| mINP: 45.11%\n",
      "feature after BN:   Rank-1: 76.12% | Rank-5: 93.06% | Rank-10: 97.27%| Rank-20: 99.61%| mAP: 74.04%| mINP: 63.17%\n",
      "Test Trial: 3\n",
      "original feature:   Rank-1: 70.94% | Rank-5: 91.32% | Rank-10: 95.85%| Rank-20: 98.82%| mAP: 65.04%| mINP: 47.96%\n",
      "feature after BN:   Rank-1: 79.78% | Rank-5: 94.98% | Rank-10: 98.13%| Rank-20: 99.55%| mAP: 75.90%| mINP: 63.03%\n",
      "Test Trial: 4\n",
      "original feature:   Rank-1: 72.07% | Rank-5: 90.24% | Rank-10: 94.35%| Rank-20: 96.98%| mAP: 65.56%| mINP: 49.15%\n",
      "feature after BN:   Rank-1: 79.25% | Rank-5: 94.61% | Rank-10: 97.90%| Rank-20: 99.29%| mAP: 76.17%| mINP: 65.22%\n",
      "Test Trial: 5\n",
      "original feature:   Rank-1: 68.89% | Rank-5: 89.09% | Rank-10: 93.66%| Rank-20: 97.03%| mAP: 62.37%| mINP: 45.30%\n",
      "feature after BN:   Rank-1: 75.31% | Rank-5: 93.35% | Rank-10: 97.66%| Rank-20: 99.63%| mAP: 72.75%| mINP: 61.37%\n",
      "Test Trial: 6\n",
      "original feature:   Rank-1: 68.55% | Rank-5: 89.74% | Rank-10: 94.40%| Rank-20: 97.29%| mAP: 61.20%| mINP: 42.73%\n",
      "feature after BN:   Rank-1: 77.02% | Rank-5: 94.82% | Rank-10: 97.71%| Rank-20: 99.26%| mAP: 74.86%| mINP: 63.35%\n",
      "Test Trial: 7\n",
      "original feature:   Rank-1: 71.81% | Rank-5: 92.14% | Rank-10: 96.63%| Rank-20: 98.82%| mAP: 63.26%| mINP: 44.05%\n",
      "feature after BN:   Rank-1: 77.89% | Rank-5: 95.42% | Rank-10: 98.47%| Rank-20: 99.66%| mAP: 73.90%| mINP: 60.73%\n",
      "Test Trial: 8\n",
      "original feature:   Rank-1: 68.31% | Rank-5: 88.48% | Rank-10: 94.03%| Rank-20: 97.69%| mAP: 61.65%| mINP: 44.06%\n",
      "feature after BN:   Rank-1: 76.31% | Rank-5: 94.85% | Rank-10: 98.47%| Rank-20: 99.68%| mAP: 72.65%| mINP: 59.46%\n",
      "Test Trial: 9\n",
      "original feature:   Rank-1: 68.37% | Rank-5: 89.85% | Rank-10: 94.74%| Rank-20: 97.66%| mAP: 62.27%| mINP: 44.11%\n",
      "feature after BN:   Rank-1: 75.20% | Rank-5: 94.29% | Rank-10: 98.55%| Rank-20: 99.68%| mAP: 73.12%| mINP: 61.72%\n",
      "All Average:\n",
      "original feature:   Rank-1: 70.21% | Rank-5: 90.28% | Rank-10: 95.01%| Rank-20: 98.00%| mAP: 63.30%| mINP: 45.53%\n",
      "feature after BN:   Rank-1: 77.27% | Rank-5: 94.44% | Rank-10: 97.95%| Rank-20: 99.50%| mAP: 74.35%| mINP: 62.43%\n"
     ]
    }
   ],
   "source": [
    "%run test.py --dataset sysu --resume sysu_p6_n4_lr_0.2_seed_0_best.pth --mode all"
   ],
   "metadata": {
    "collapsed": false,
    "ExecuteTime": {
     "end_time": "2024-03-03T14:56:38.510055200Z",
     "start_time": "2024-03-03T14:55:47.664984900Z"
    }
   },
   "id": "134eca15f5f4c7e5"
  },
  {
   "cell_type": "markdown",
   "source": [
    "## Test SYSU-MM01 (Indoor-search mode)"
   ],
   "metadata": {
    "collapsed": false
   },
   "id": "2081e0295081ba40"
  },
  {
   "cell_type": "code",
   "execution_count": 2,
   "outputs": [
    {
     "name": "stdout",
     "output_type": "stream",
     "text": [
      "==> Building model......\n",
      "==> Testing......\n",
      "==> Loading weights from checkpoint......\n",
      "==> best epoch 97\n",
      "Test Trial: 0\n",
      "original feature:   Rank-1: 75.54% | Rank-5: 93.70% | Rank-10: 96.92%| Rank-20: 98.82%| mAP: 78.30%| mINP: 73.25%\n",
      "feature after BN:   Rank-1: 83.06% | Rank-5: 95.74% | Rank-10: 98.23%| Rank-20: 99.64%| mAP: 84.90%| mINP: 81.24%\n",
      "Test Trial: 1\n",
      "original feature:   Rank-1: 72.74% | Rank-5: 92.16% | Rank-10: 95.74%| Rank-20: 97.96%| mAP: 75.75%| mINP: 70.76%\n",
      "feature after BN:   Rank-1: 83.15% | Rank-5: 97.46% | Rank-10: 99.64%| Rank-20: 99.95%| mAP: 86.35%| mINP: 83.63%\n",
      "Test Trial: 2\n",
      "original feature:   Rank-1: 73.19% | Rank-5: 92.48% | Rank-10: 96.69%| Rank-20: 98.32%| mAP: 75.71%| mINP: 70.24%\n",
      "feature after BN:   Rank-1: 83.61% | Rank-5: 98.46% | Rank-10: 99.77%| Rank-20: 99.95%| mAP: 86.76%| mINP: 83.73%\n",
      "Test Trial: 3\n",
      "original feature:   Rank-1: 76.68% | Rank-5: 94.66% | Rank-10: 97.83%| Rank-20: 99.50%| mAP: 79.89%| mINP: 75.55%\n",
      "feature after BN:   Rank-1: 86.05% | Rank-5: 97.92% | Rank-10: 99.41%| Rank-20: 99.82%| mAP: 88.35%| mINP: 85.72%\n",
      "Test Trial: 4\n",
      "original feature:   Rank-1: 74.68% | Rank-5: 91.98% | Rank-10: 96.51%| Rank-20: 97.92%| mAP: 77.57%| mINP: 72.75%\n",
      "feature after BN:   Rank-1: 83.24% | Rank-5: 95.92% | Rank-10: 97.96%| Rank-20: 99.23%| mAP: 85.95%| mINP: 82.91%\n",
      "Test Trial: 5\n",
      "original feature:   Rank-1: 77.08% | Rank-5: 94.70% | Rank-10: 98.05%| Rank-20: 99.68%| mAP: 79.95%| mINP: 75.27%\n",
      "feature after BN:   Rank-1: 84.24% | Rank-5: 98.14% | Rank-10: 99.59%| Rank-20: 99.86%| mAP: 87.44%| mINP: 84.91%\n",
      "Test Trial: 6\n",
      "original feature:   Rank-1: 74.23% | Rank-5: 91.58% | Rank-10: 95.65%| Rank-20: 97.87%| mAP: 77.30%| mINP: 72.96%\n",
      "feature after BN:   Rank-1: 82.61% | Rank-5: 96.78% | Rank-10: 98.23%| Rank-20: 99.68%| mAP: 85.40%| mINP: 82.09%\n",
      "Test Trial: 7\n",
      "original feature:   Rank-1: 76.54% | Rank-5: 94.11% | Rank-10: 97.74%| Rank-20: 99.37%| mAP: 78.51%| mINP: 72.87%\n",
      "feature after BN:   Rank-1: 84.51% | Rank-5: 97.96% | Rank-10: 99.59%| Rank-20: 99.95%| mAP: 87.15%| mINP: 84.09%\n",
      "Test Trial: 8\n",
      "original feature:   Rank-1: 75.95% | Rank-5: 92.80% | Rank-10: 96.33%| Rank-20: 98.46%| mAP: 78.88%| mINP: 74.55%\n",
      "feature after BN:   Rank-1: 84.92% | Rank-5: 97.60% | Rank-10: 99.32%| Rank-20: 99.86%| mAP: 87.49%| mINP: 84.68%\n",
      "Test Trial: 9\n",
      "original feature:   Rank-1: 75.18% | Rank-5: 94.97% | Rank-10: 97.92%| Rank-20: 98.73%| mAP: 79.12%| mINP: 75.01%\n",
      "feature after BN:   Rank-1: 86.73% | Rank-5: 97.92% | Rank-10: 98.87%| Rank-20: 99.82%| mAP: 88.55%| mINP: 85.82%\n",
      "All Average:\n",
      "original feature:   Rank-1: 75.18% | Rank-5: 93.32% | Rank-10: 96.94%| Rank-20: 98.66%| mAP: 78.10%| mINP: 73.32%\n",
      "feature after BN:   Rank-1: 84.21% | Rank-5: 97.39% | Rank-10: 99.06%| Rank-20: 99.78%| mAP: 86.83%| mINP: 83.88%\n"
     ]
    }
   ],
   "source": [
    "%run test.py --dataset sysu --resume sysu_p6_n4_lr_0.2_seed_0_best.pth --mode indoor"
   ],
   "metadata": {
    "collapsed": false,
    "ExecuteTime": {
     "end_time": "2024-03-03T14:57:50.640713800Z",
     "start_time": "2024-03-03T14:57:27.775455700Z"
    }
   },
   "id": "accff43f63fc924a"
  },
  {
   "cell_type": "markdown",
   "source": [
    "## Test RegDB (Infrared to Visible)"
   ],
   "metadata": {
    "collapsed": false
   },
   "id": "61ac5864541dbc90"
  },
  {
   "cell_type": "code",
   "execution_count": 5,
   "outputs": [
    {
     "name": "stdout",
     "output_type": "stream",
     "text": [
      "==> Building model......\n",
      "==> Testing......\n",
      "==> best epoch 89\n",
      "Test Trial: 1, Thermal to Visible\n",
      "original feature:   Rank-1: 89.71% | Rank-5: 93.64% | Rank-10: 95.97%| Rank-20: 97.82%| mAP: 80.07%| mINP: 62.42%\n",
      "feature after BN:   Rank-1: 93.30% | Rank-5: 96.80% | Rank-10: 98.01%| Rank-20: 98.93%| mAP: 87.98%| mINP: 76.71%\n",
      "==> best epoch 78\n",
      "Test Trial: 2, Thermal to Visible\n",
      "original feature:   Rank-1: 90.00% | Rank-5: 96.07% | Rank-10: 97.28%| Rank-20: 98.25%| mAP: 81.42%| mINP: 63.31%\n",
      "feature after BN:   Rank-1: 94.66% | Rank-5: 97.43% | Rank-10: 98.06%| Rank-20: 98.74%| mAP: 88.93%| mINP: 75.95%\n",
      "==> best epoch 97\n",
      "Test Trial: 3, Thermal to Visible\n",
      "original feature:   Rank-1: 88.59% | Rank-5: 95.68% | Rank-10: 97.86%| Rank-20: 98.93%| mAP: 80.47%| mINP: 62.39%\n",
      "feature after BN:   Rank-1: 92.28% | Rank-5: 96.75% | Rank-10: 98.59%| Rank-20: 99.66%| mAP: 87.14%| mINP: 74.68%\n",
      "==> best epoch 97\n",
      "Test Trial: 4, Thermal to Visible\n",
      "original feature:   Rank-1: 93.45% | Rank-5: 97.38% | Rank-10: 98.50%| Rank-20: 99.22%| mAP: 85.98%| mINP: 70.48%\n",
      "feature after BN:   Rank-1: 95.39% | Rank-5: 97.91% | Rank-10: 99.03%| Rank-20: 99.37%| mAP: 89.55%| mINP: 78.52%\n",
      "==> best epoch 66\n",
      "Test Trial: 5, Thermal to Visible\n",
      "original feature:   Rank-1: 89.42% | Rank-5: 94.81% | Rank-10: 96.55%| Rank-20: 97.96%| mAP: 79.24%| mINP: 59.86%\n",
      "feature after BN:   Rank-1: 92.18% | Rank-5: 95.58% | Rank-10: 97.04%| Rank-20: 98.59%| mAP: 85.62%| mINP: 71.37%\n",
      "==> best epoch 90\n",
      "Test Trial: 6, Thermal to Visible\n",
      "original feature:   Rank-1: 92.67% | Rank-5: 96.07% | Rank-10: 97.77%| Rank-20: 98.83%| mAP: 84.16%| mINP: 65.88%\n",
      "feature after BN:   Rank-1: 93.79% | Rank-5: 96.46% | Rank-10: 97.82%| Rank-20: 99.13%| mAP: 88.80%| mINP: 76.72%\n",
      "==> best epoch 88\n",
      "Test Trial: 7, Thermal to Visible\n",
      "original feature:   Rank-1: 89.27% | Rank-5: 95.05% | Rank-10: 97.09%| Rank-20: 98.35%| mAP: 81.01%| mINP: 62.77%\n",
      "feature after BN:   Rank-1: 92.14% | Rank-5: 96.07% | Rank-10: 97.28%| Rank-20: 98.30%| mAP: 87.47%| mINP: 74.48%\n",
      "==> best epoch 95\n",
      "Test Trial: 8, Thermal to Visible\n",
      "original feature:   Rank-1: 93.01% | Rank-5: 96.99% | Rank-10: 98.25%| Rank-20: 99.13%| mAP: 86.12%| mINP: 70.09%\n",
      "feature after BN:   Rank-1: 92.96% | Rank-5: 95.34% | Rank-10: 96.99%| Rank-20: 99.08%| mAP: 88.74%| mINP: 78.37%\n",
      "==> best epoch 95\n",
      "Test Trial: 9, Thermal to Visible\n",
      "original feature:   Rank-1: 92.28% | Rank-5: 97.09% | Rank-10: 98.93%| Rank-20: 99.47%| mAP: 84.31%| mINP: 67.58%\n",
      "feature after BN:   Rank-1: 94.85% | Rank-5: 97.86% | Rank-10: 98.93%| Rank-20: 99.37%| mAP: 89.02%| mINP: 77.22%\n",
      "==> best epoch 92\n",
      "Test Trial: 10, Thermal to Visible\n",
      "original feature:   Rank-1: 91.60% | Rank-5: 95.92% | Rank-10: 97.43%| Rank-20: 98.50%| mAP: 83.68%| mINP: 65.30%\n",
      "feature after BN:   Rank-1: 93.30% | Rank-5: 96.36% | Rank-10: 97.33%| Rank-20: 98.30%| mAP: 87.73%| mINP: 75.07%\n",
      "All Average:\n",
      "original feature:   Rank-1: 91.00% | Rank-5: 95.87% | Rank-10: 97.56%| Rank-20: 98.65%| mAP: 82.65%| mINP: 65.01%\n",
      "feature after BN:   Rank-1: 93.49% | Rank-5: 96.66% | Rank-10: 97.91%| Rank-20: 98.95%| mAP: 88.10%| mINP: 75.91%\n"
     ]
    }
   ],
   "source": [
    "%run test.py --dataset regdb --tvsearch 0"
   ],
   "metadata": {
    "collapsed": false,
    "ExecuteTime": {
     "end_time": "2024-03-03T15:03:08.531448200Z",
     "start_time": "2024-03-03T14:59:27.914885200Z"
    }
   },
   "id": "b67f54b221055030"
  },
  {
   "cell_type": "markdown",
   "source": [
    "## Test RegDB (Visible to Infrared)"
   ],
   "metadata": {
    "collapsed": false
   },
   "id": "a4c6d28ccbad5112"
  },
  {
   "cell_type": "code",
   "execution_count": 6,
   "outputs": [
    {
     "name": "stdout",
     "output_type": "stream",
     "text": [
      "==> Building model......\n",
      "==> Testing......\n",
      "==> best epoch 89\n",
      "Test Trial: 1, Visible to Thermal\n",
      "original feature:   Rank-1: 87.62% | Rank-5: 93.11% | Rank-10: 95.29%| Rank-20: 97.18%| mAP: 80.03%| mINP: 63.96%\n",
      "feature after BN:   Rank-1: 93.06% | Rank-5: 97.82% | Rank-10: 98.98%| Rank-20: 99.42%| mAP: 88.59%| mINP: 78.65%\n",
      "==> best epoch 78\n",
      "Test Trial: 2, Visible to Thermal\n",
      "original feature:   Rank-1: 88.20% | Rank-5: 93.98% | Rank-10: 95.53%| Rank-20: 97.57%| mAP: 81.28%| mINP: 65.66%\n",
      "feature after BN:   Rank-1: 93.11% | Rank-5: 96.26% | Rank-10: 98.06%| Rank-20: 98.88%| mAP: 88.34%| mINP: 77.30%\n",
      "==> best epoch 97\n",
      "Test Trial: 3, Visible to Thermal\n",
      "original feature:   Rank-1: 89.27% | Rank-5: 93.88% | Rank-10: 96.07%| Rank-20: 98.16%| mAP: 81.27%| mINP: 66.06%\n",
      "feature after BN:   Rank-1: 92.04% | Rank-5: 96.84% | Rank-10: 98.35%| Rank-20: 99.27%| mAP: 87.93%| mINP: 78.12%\n",
      "==> best epoch 97\n",
      "Test Trial: 4, Visible to Thermal\n",
      "original feature:   Rank-1: 93.16% | Rank-5: 97.48% | Rank-10: 98.74%| Rank-20: 99.42%| mAP: 85.67%| mINP: 72.49%\n",
      "feature after BN:   Rank-1: 94.76% | Rank-5: 97.62% | Rank-10: 98.83%| Rank-20: 99.76%| mAP: 89.90%| mINP: 80.63%\n",
      "==> best epoch 66\n",
      "Test Trial: 5, Visible to Thermal\n",
      "original feature:   Rank-1: 88.40% | Rank-5: 94.32% | Rank-10: 96.70%| Rank-20: 98.20%| mAP: 79.88%| mINP: 64.31%\n",
      "feature after BN:   Rank-1: 91.17% | Rank-5: 96.17% | Rank-10: 98.88%| Rank-20: 99.42%| mAP: 86.27%| mINP: 75.13%\n",
      "==> best epoch 90\n",
      "Test Trial: 6, Visible to Thermal\n",
      "original feature:   Rank-1: 91.07% | Rank-5: 94.95% | Rank-10: 97.18%| Rank-20: 98.83%| mAP: 84.32%| mINP: 70.22%\n",
      "feature after BN:   Rank-1: 92.28% | Rank-5: 97.38% | Rank-10: 99.56%| Rank-20: 99.71%| mAP: 89.03%| mINP: 79.81%\n",
      "==> best epoch 88\n",
      "Test Trial: 7, Visible to Thermal\n",
      "original feature:   Rank-1: 89.27% | Rank-5: 94.76% | Rank-10: 96.75%| Rank-20: 98.20%| mAP: 81.33%| mINP: 65.46%\n",
      "feature after BN:   Rank-1: 92.48% | Rank-5: 97.09% | Rank-10: 98.11%| Rank-20: 98.88%| mAP: 87.98%| mINP: 77.89%\n",
      "==> best epoch 95\n",
      "Test Trial: 8, Visible to Thermal\n",
      "original feature:   Rank-1: 92.14% | Rank-5: 95.87% | Rank-10: 97.43%| Rank-20: 98.54%| mAP: 86.24%| mINP: 73.20%\n",
      "feature after BN:   Rank-1: 93.54% | Rank-5: 97.48% | Rank-10: 98.74%| Rank-20: 99.56%| mAP: 89.82%| mINP: 80.68%\n",
      "==> best epoch 95\n",
      "Test Trial: 9, Visible to Thermal\n",
      "original feature:   Rank-1: 91.84% | Rank-5: 96.60% | Rank-10: 97.77%| Rank-20: 98.74%| mAP: 85.24%| mINP: 71.16%\n",
      "feature after BN:   Rank-1: 93.45% | Rank-5: 97.96% | Rank-10: 99.22%| Rank-20: 99.85%| mAP: 89.23%| mINP: 78.52%\n",
      "==> best epoch 92\n",
      "Test Trial: 10, Visible to Thermal\n",
      "original feature:   Rank-1: 91.70% | Rank-5: 96.60% | Rank-10: 97.48%| Rank-20: 98.45%| mAP: 84.09%| mINP: 67.92%\n",
      "feature after BN:   Rank-1: 94.22% | Rank-5: 96.84% | Rank-10: 98.01%| Rank-20: 99.03%| mAP: 88.51%| mINP: 77.50%\n",
      "All Average:\n",
      "original feature:   Rank-1: 90.27% | Rank-5: 95.16% | Rank-10: 96.89%| Rank-20: 98.33%| mAP: 82.94%| mINP: 68.04%\n",
      "feature after BN:   Rank-1: 93.01% | Rank-5: 97.15% | Rank-10: 98.67%| Rank-20: 99.38%| mAP: 88.56%| mINP: 78.42%\n"
     ]
    }
   ],
   "source": [
    "%run test.py --dataset regdb --tvsearch 1"
   ],
   "metadata": {
    "collapsed": false,
    "ExecuteTime": {
     "end_time": "2024-03-03T15:06:58.301710600Z",
     "start_time": "2024-03-03T15:03:37.293387600Z"
    }
   },
   "id": "fca9ab0f11cfc5a0"
  },
  {
   "cell_type": "markdown",
   "source": [
    "## Test LLCM (Infrared to Visible)"
   ],
   "metadata": {
    "collapsed": false
   },
   "id": "239ed14a737a2844"
  },
  {
   "cell_type": "code",
   "execution_count": 7,
   "outputs": [
    {
     "name": "stdout",
     "output_type": "stream",
     "text": [
      "Infrared to Visible......\n",
      "==> Building model......\n",
      "==> Testing......\n",
      "==> Loading weights from checkpoint......\n",
      "==> best epoch 97\n",
      "Test Trial: 0\n",
      "original feature:   Rank-1: 46.62% | Rank-5: 66.87% | Rank-10: 75.38%| Rank-20: 82.89%| mAP: 52.28%| mINP: 48.33%\n",
      "feature after BN:   Rank-1: 57.44% | Rank-5: 77.95% | Rank-10: 85.46%| Rank-20: 91.43%| mAP: 63.99%| mINP: 60.79%\n",
      "Test Trial: 1\n",
      "original feature:   Rank-1: 44.73% | Rank-5: 64.76% | Rank-10: 73.43%| Rank-20: 81.37%| mAP: 50.80%| mINP: 47.42%\n",
      "feature after BN:   Rank-1: 56.82% | Rank-5: 78.24% | Rank-10: 85.33%| Rank-20: 92.23%| mAP: 63.56%| mINP: 60.30%\n",
      "Test Trial: 2\n",
      "original feature:   Rank-1: 43.82% | Rank-5: 64.75% | Rank-10: 73.60%| Rank-20: 81.11%| mAP: 49.92%| mINP: 46.20%\n",
      "feature after BN:   Rank-1: 54.81% | Rank-5: 77.64% | Rank-10: 85.50%| Rank-20: 91.47%| mAP: 62.18%| mINP: 59.02%\n",
      "Test Trial: 3\n",
      "original feature:   Rank-1: 44.40% | Rank-5: 63.91% | Rank-10: 71.78%| Rank-20: 80.23%| mAP: 50.13%| mINP: 46.53%\n",
      "feature after BN:   Rank-1: 56.74% | Rank-5: 76.51% | Rank-10: 84.66%| Rank-20: 91.36%| mAP: 62.81%| mINP: 59.69%\n",
      "Test Trial: 4\n",
      "original feature:   Rank-1: 46.75% | Rank-5: 66.90% | Rank-10: 74.90%| Rank-20: 82.39%| mAP: 52.05%| mINP: 47.88%\n",
      "feature after BN:   Rank-1: 59.06% | Rank-5: 79.91% | Rank-10: 86.85%| Rank-20: 92.63%| mAP: 65.24%| mINP: 61.86%\n",
      "Test Trial: 5\n",
      "original feature:   Rank-1: 47.89% | Rank-5: 69.15% | Rank-10: 77.17%| Rank-20: 83.66%| mAP: 54.32%| mINP: 50.86%\n",
      "feature after BN:   Rank-1: 60.48% | Rank-5: 79.96% | Rank-10: 86.88%| Rank-20: 92.62%| mAP: 66.46%| mINP: 63.37%\n",
      "Test Trial: 6\n",
      "original feature:   Rank-1: 45.38% | Rank-5: 66.56% | Rank-10: 75.23%| Rank-20: 82.15%| mAP: 51.73%| mINP: 48.24%\n",
      "feature after BN:   Rank-1: 57.52% | Rank-5: 78.98% | Rank-10: 86.11%| Rank-20: 91.78%| mAP: 64.35%| mINP: 61.40%\n",
      "Test Trial: 7\n",
      "original feature:   Rank-1: 46.02% | Rank-5: 66.02% | Rank-10: 73.78%| Rank-20: 81.59%| mAP: 52.21%| mINP: 48.95%\n",
      "feature after BN:   Rank-1: 56.98% | Rank-5: 79.08% | Rank-10: 86.42%| Rank-20: 92.39%| mAP: 64.40%| mINP: 61.68%\n",
      "Test Trial: 8\n",
      "original feature:   Rank-1: 46.36% | Rank-5: 66.86% | Rank-10: 75.55%| Rank-20: 83.32%| mAP: 52.71%| mINP: 49.34%\n",
      "feature after BN:   Rank-1: 58.08% | Rank-5: 78.51% | Rank-10: 86.34%| Rank-20: 92.37%| mAP: 65.12%| mINP: 62.50%\n",
      "Test Trial: 9\n",
      "original feature:   Rank-1: 45.13% | Rank-5: 64.51% | Rank-10: 73.46%| Rank-20: 81.83%| mAP: 50.86%| mINP: 47.17%\n",
      "feature after BN:   Rank-1: 56.60% | Rank-5: 78.05% | Rank-10: 86.14%| Rank-20: 92.77%| mAP: 63.04%| mINP: 59.48%\n",
      "All Average:\n",
      "original feature:   Rank-1: 45.71% | Rank-5: 66.03% | Rank-10: 74.43%| Rank-20: 82.05%| mAP: 51.70%| mINP: 48.09%\n",
      "feature after BN:   Rank-1: 57.45% | Rank-5: 78.48% | Rank-10: 85.97%| Rank-20: 92.11%| mAP: 64.11%| mINP: 61.01%\n"
     ]
    }
   ],
   "source": [
    "%run test.py --dataset llcm --resume llcm_p6_n4_lr_0.2_seed_0_best.pth --tvsearch 0"
   ],
   "metadata": {
    "collapsed": false,
    "ExecuteTime": {
     "end_time": "2024-03-03T15:09:53.172226200Z",
     "start_time": "2024-03-03T15:07:56.273179600Z"
    }
   },
   "id": "8f13889366e8f092"
  },
  {
   "cell_type": "markdown",
   "source": [
    "## Test LLCM (Visible to Infrared)"
   ],
   "metadata": {
    "collapsed": false
   },
   "id": "2f40498a86da8767"
  },
  {
   "cell_type": "code",
   "execution_count": 8,
   "outputs": [
    {
     "name": "stdout",
     "output_type": "stream",
     "text": [
      "Visible to Infrared......\n",
      "==> Building model......\n",
      "==> Testing......\n",
      "==> Loading weights from checkpoint......\n",
      "==> best epoch 97\n",
      "Test Trial: 0\n",
      "original feature:   Rank-1: 54.16% | Rank-5: 77.38% | Rank-10: 84.85%| Rank-20: 90.55%| mAP: 57.16%| mINP: 50.23%\n",
      "feature after BN:   Rank-1: 63.56% | Rank-5: 86.69% | Rank-10: 92.80%| Rank-20: 95.94%| mAP: 67.10%| mINP: 60.58%\n",
      "Test Trial: 1\n",
      "original feature:   Rank-1: 55.11% | Rank-5: 76.20% | Rank-10: 83.66%| Rank-20: 89.74%| mAP: 58.26%| mINP: 51.79%\n",
      "feature after BN:   Rank-1: 66.54% | Rank-5: 86.36% | Rank-10: 91.68%| Rank-20: 95.84%| mAP: 69.54%| mINP: 63.95%\n",
      "Test Trial: 2\n",
      "original feature:   Rank-1: 55.08% | Rank-5: 76.23% | Rank-10: 83.58%| Rank-20: 89.45%| mAP: 57.88%| mINP: 51.40%\n",
      "feature after BN:   Rank-1: 66.30% | Rank-5: 86.67% | Rank-10: 91.39%| Rank-20: 94.67%| mAP: 68.43%| mINP: 61.98%\n",
      "Test Trial: 3\n",
      "original feature:   Rank-1: 55.76% | Rank-5: 75.86% | Rank-10: 82.52%| Rank-20: 88.47%| mAP: 58.16%| mINP: 51.74%\n",
      "feature after BN:   Rank-1: 65.61% | Rank-5: 85.07% | Rank-10: 90.64%| Rank-20: 94.88%| mAP: 67.98%| mINP: 61.61%\n",
      "Test Trial: 4\n",
      "original feature:   Rank-1: 55.51% | Rank-5: 76.84% | Rank-10: 83.64%| Rank-20: 89.57%| mAP: 57.67%| mINP: 50.09%\n",
      "feature after BN:   Rank-1: 66.00% | Rank-5: 85.90% | Rank-10: 91.39%| Rank-20: 95.47%| mAP: 68.28%| mINP: 61.60%\n",
      "Test Trial: 5\n",
      "original feature:   Rank-1: 56.01% | Rank-5: 78.46% | Rank-10: 85.39%| Rank-20: 90.59%| mAP: 58.87%| mINP: 51.71%\n",
      "feature after BN:   Rank-1: 67.81% | Rank-5: 87.99% | Rank-10: 93.17%| Rank-20: 96.47%| mAP: 70.16%| mINP: 63.82%\n",
      "Test Trial: 6\n",
      "original feature:   Rank-1: 54.62% | Rank-5: 75.74% | Rank-10: 82.97%| Rank-20: 88.88%| mAP: 57.13%| mINP: 50.41%\n",
      "feature after BN:   Rank-1: 65.08% | Rank-5: 85.95% | Rank-10: 90.90%| Rank-20: 94.64%| mAP: 67.91%| mINP: 61.65%\n",
      "Test Trial: 7\n",
      "original feature:   Rank-1: 55.96% | Rank-5: 77.49% | Rank-10: 84.15%| Rank-20: 90.51%| mAP: 58.34%| mINP: 51.24%\n",
      "feature after BN:   Rank-1: 66.45% | Rank-5: 86.92% | Rank-10: 92.09%| Rank-20: 95.32%| mAP: 69.19%| mINP: 62.81%\n",
      "Test Trial: 8\n",
      "original feature:   Rank-1: 55.07% | Rank-5: 75.77% | Rank-10: 83.45%| Rank-20: 89.14%| mAP: 56.87%| mINP: 49.57%\n",
      "feature after BN:   Rank-1: 65.92% | Rank-5: 87.08% | Rank-10: 92.40%| Rank-20: 96.02%| mAP: 68.31%| mINP: 61.52%\n",
      "Test Trial: 9\n",
      "original feature:   Rank-1: 56.26% | Rank-5: 77.44% | Rank-10: 84.07%| Rank-20: 90.05%| mAP: 58.61%| mINP: 51.71%\n",
      "feature after BN:   Rank-1: 66.92% | Rank-5: 87.45% | Rank-10: 92.88%| Rank-20: 96.52%| mAP: 69.08%| mINP: 62.28%\n",
      "All Average:\n",
      "original feature:   Rank-1: 55.35% | Rank-5: 76.74% | Rank-10: 83.83%| Rank-20: 89.69%| mAP: 57.89%| mINP: 50.99%\n",
      "feature after BN:   Rank-1: 66.02% | Rank-5: 86.61% | Rank-10: 91.93%| Rank-20: 95.58%| mAP: 68.60%| mINP: 62.18%\n"
     ]
    }
   ],
   "source": [
    "%run test.py --dataset llcm --resume llcm_p6_n4_lr_0.2_seed_0_best.pth --tvsearch 1"
   ],
   "metadata": {
    "collapsed": false,
    "ExecuteTime": {
     "end_time": "2024-03-03T15:13:07.826448800Z",
     "start_time": "2024-03-03T15:10:30.238880200Z"
    }
   },
   "id": "283b492fcf9fa963"
  }
 ],
 "metadata": {
  "kernelspec": {
   "display_name": "Python 3",
   "language": "python",
   "name": "python3"
  },
  "language_info": {
   "codemirror_mode": {
    "name": "ipython",
    "version": 2
   },
   "file_extension": ".py",
   "mimetype": "text/x-python",
   "name": "python",
   "nbconvert_exporter": "python",
   "pygments_lexer": "ipython2",
   "version": "2.7.6"
  }
 },
 "nbformat": 4,
 "nbformat_minor": 5
}
